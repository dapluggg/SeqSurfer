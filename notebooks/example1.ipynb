{
 "cells": [
  {
   "cell_type": "code",
   "execution_count": null,
   "metadata": {},
   "outputs": [
    {
     "ename": "",
     "evalue": "",
     "output_type": "error",
     "traceback": [
      "\u001b[1;31mJupyter cannot be started. Error attempting to locate Jupyter: Running cells requires jupyter and notebook package.\n",
      "\u001b[1;31mRun the following command to install 'jupyter and notebook' into the Python environment. \n",
      "\u001b[1;31mCommand: 'python -m pip install jupyter notebook -U\n",
      "\u001b[1;31mor\n",
      "\u001b[1;31mconda install jupyter notebook -U'\n",
      "\u001b[1;31mClick <a href='https://aka.ms/installJupyterForVSCode'>here</a> for more info."
     ]
    }
   ],
   "source": [
    "import sys\n",
    "import os\n",
    "import importlib\n",
    "sys.path.insert(1, '/blue/m.pipkin/s.nagaraja/SeqSurfer/src')\n",
    "from data import bam_transform as bt\n",
    "importlib.reload(bt)"
   ]
  },
  {
   "cell_type": "code",
   "execution_count": 8,
   "metadata": {},
   "outputs": [
    {
     "name": "stdout",
     "output_type": "stream",
     "text": [
      "                          SampleName SampleName_inExp  \\\n",
      "0     WT_0h_Rep1_dlck_Ets1KO_invitro              WT1   \n",
      "1     WT_2h_Rep1_dlck_Ets1KO_invitro              WT2   \n",
      "2     WT_6h_Rep1_dlck_Ets1KO_invitro              WT3   \n",
      "3    WT_12h_Rep1_dlck_Ets1KO_invitro              WT4   \n",
      "4    WT_24h_Rep1_dlck_Ets1KO_invitro              WT5   \n",
      "..                               ...              ...   \n",
      "96                D32_SalivaryGland2       T8_D32_SG2   \n",
      "97                          D32_Fat1      T8_D32_Fat1   \n",
      "98                          D32_Fat2      T8_D32_Fat2   \n",
      "99                        D32_Liver1      T8_D32_Liv1   \n",
      "100                       D32_Liver2      T8_D32_Liv2   \n",
      "\n",
      "                                            path             Exp Endedness  \\\n",
      "0      /blue/m.pipkin/stsuda/ATAC_Ets1KO_invitro  Ets1KO_invitro        PE   \n",
      "1      /blue/m.pipkin/stsuda/ATAC_Ets1KO_invitro  Ets1KO_invitro        PE   \n",
      "2      /blue/m.pipkin/stsuda/ATAC_Ets1KO_invitro  Ets1KO_invitro        PE   \n",
      "3      /blue/m.pipkin/stsuda/ATAC_Ets1KO_invitro  Ets1KO_invitro        PE   \n",
      "4      /blue/m.pipkin/stsuda/ATAC_Ets1KO_invitro  Ets1KO_invitro        PE   \n",
      "..                                           ...             ...       ...   \n",
      "96   /blue/m.pipkin/s.nagaraja/Crowl_2022_Nature      Crowl_2032        SE   \n",
      "97   /blue/m.pipkin/s.nagaraja/Crowl_2022_Nature      Crowl_2033        SE   \n",
      "98   /blue/m.pipkin/s.nagaraja/Crowl_2022_Nature      Crowl_2034        SE   \n",
      "99   /blue/m.pipkin/s.nagaraja/Crowl_2022_Nature      Crowl_2035        SE   \n",
      "100  /blue/m.pipkin/s.nagaraja/Crowl_2022_Nature      Crowl_2036        SE   \n",
      "\n",
      "                    Status  \n",
      "0     WT_0h_Ets1KO_invitro  \n",
      "1     WT_2h_Ets1KO_invitro  \n",
      "2     WT_6h_Ets1KO_invitro  \n",
      "3    WT_12h_Ets1KO_invitro  \n",
      "4    WT_24h_Ets1KO_invitro  \n",
      "..                     ...  \n",
      "96       D32_SalivaryGland  \n",
      "97                 D32_Fat  \n",
      "98                 D32_Fat  \n",
      "99               D32_Liver  \n",
      "100              D32_Liver  \n",
      "\n",
      "[101 rows x 6 columns]\n"
     ]
    }
   ],
   "source": [
    "myexp = bt.BamTransform('/blue/m.pipkin/s.nagaraja/SeqSurfer/data',\n",
    "                        '/blue/m.pipkin/s.nagaraja/SeqSurfer/src',\n",
    "                        '/blue/m.pipkin/s.nagaraja/SeqSurfer/references/Tsuda_MegaExp.txt',\n",
    "                        dry_run=False)"
   ]
  },
  {
   "cell_type": "code",
   "execution_count": 9,
   "metadata": {},
   "outputs": [
    {
     "name": "stdout",
     "output_type": "stream",
     "text": [
      "Submitted batch job 55194414\n",
      "Submitted batch job 55194415\n",
      "Submitted batch job 55194416\n",
      "Submitted batch job 55194417\n",
      "Submitted batch job 55194418\n"
     ]
    }
   ],
   "source": [
    "myexp.bam_to_cov()"
   ]
  },
  {
   "cell_type": "code",
   "execution_count": null,
   "metadata": {},
   "outputs": [],
   "source": [
    "# Take in a genome sizes file and create a BED file where every entry is 1 bp\n",
    "# Path: notebooks/example1.ipynb\n",
    "import sys\n",
    "import os\n",
    "\n"
   ]
  },
  {
   "cell_type": "code",
   "execution_count": 2,
   "metadata": {},
   "outputs": [],
   "source": [
    "import csv\n",
    "from tqdm import tqdm\n",
    "\n",
    "# Open the genome sizes file and read it into a dictionary\n",
    "genome_sizes = {}\n",
    "with open(\"/home/s.nagaraja/ATAC-seqPipeline/core/GCF_000001635.27_GRCm39_genomic.size\", 'r') as f:\n",
    "    reader = csv.reader(f, delimiter='\\t')\n",
    "    for row in reader:\n",
    "        chrom, size = row\n",
    "        genome_sizes[chrom] = int(size)\n",
    "\n",
    "# Open the output BED file for writing\n",
    "with open(\"output.bed\", 'w') as f:\n",
    "    writer = csv.writer(f, delimiter='\\t')\n",
    "    # Iterate through the chromosomes in the genome sizes dictionary\n",
    "    for chrom in tqdm(genome_sizes, desc=\"Processing chromosomes\"):\n",
    "        size = genome_sizes[chrom]\n",
    "        # Write a BED entry for each base pair in the chromosome\n",
    "        for i in tqdm(range(size), desc=\"Writing BED entries\", leave=False):\n",
    "            writer.writerow([chrom, i, i + 1])\n"
   ]
  },
  {
   "cell_type": "code",
   "execution_count": null,
   "metadata": {},
   "outputs": [],
   "source": []
  }
 ],
 "metadata": {
  "kernelspec": {
   "display_name": "SeqSurfer_env",
   "language": "python",
   "name": "python3"
  },
  "language_info": {
   "codemirror_mode": {
    "name": "ipython",
    "version": 3
   },
   "file_extension": ".py",
   "mimetype": "text/x-python",
   "name": "python",
   "nbconvert_exporter": "python",
   "pygments_lexer": "ipython3",
   "version": "3.11.0 | packaged by conda-forge | (main, Oct 25 2022, 06:24:40) [GCC 10.4.0]"
  },
  "orig_nbformat": 4,
  "vscode": {
   "interpreter": {
    "hash": "b0c59372eda723237e6d407849009689a42fc9c35f5d4cc63f681eaf426ce264"
   }
  }
 },
 "nbformat": 4,
 "nbformat_minor": 2
}
