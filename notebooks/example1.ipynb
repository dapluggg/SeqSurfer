{
 "cells": [
  {
   "cell_type": "code",
   "execution_count": 17,
   "metadata": {},
   "outputs": [
    {
     "data": {
      "text/plain": [
       "<module 'data.bam_transform' from '/blue/m.pipkin/s.nagaraja/SeqSurfer/src/data/bam_transform.py'>"
      ]
     },
     "execution_count": 17,
     "metadata": {},
     "output_type": "execute_result"
    }
   ],
   "source": [
    "\n",
    "import sys\n",
    "import importlib\n",
    "sys.path.insert(1, '/blue/m.pipkin/s.nagaraja/SeqSurfer/src')\n",
    "from data import bam_transform\n",
    "importlib.reload(bam_transform)"
   ]
  },
  {
   "cell_type": "code",
   "execution_count": 19,
   "metadata": {},
   "outputs": [
    {
     "name": "stdout",
     "output_type": "stream",
     "text": [
      "test\n",
      "Script created for test.bam\n"
     ]
    }
   ],
   "source": [
    "runx3 = bam_transform.BamTransform('/blue/m.pipkin/s.nagaraja/SeqSurfer/data', '/blue/m.pipkin/s.nagaraja/SeqSurfer', 'test', dry_run=True)\n",
    "runx3.bam_to_cov(['test.bam'])"
   ]
  }
 ],
 "metadata": {
  "kernelspec": {
   "display_name": "SeqSurfer_env",
   "language": "python",
   "name": "python3"
  },
  "language_info": {
   "codemirror_mode": {
    "name": "ipython",
    "version": 3
   },
   "file_extension": ".py",
   "mimetype": "text/x-python",
   "name": "python",
   "nbconvert_exporter": "python",
   "pygments_lexer": "ipython3",
   "version": "3.11.0"
  },
  "orig_nbformat": 4,
  "vscode": {
   "interpreter": {
    "hash": "b0c59372eda723237e6d407849009689a42fc9c35f5d4cc63f681eaf426ce264"
   }
  }
 },
 "nbformat": 4,
 "nbformat_minor": 2
}
